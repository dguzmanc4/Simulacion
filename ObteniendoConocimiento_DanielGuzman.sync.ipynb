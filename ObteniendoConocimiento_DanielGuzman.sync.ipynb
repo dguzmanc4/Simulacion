{
 "cells": [
  {
   "cell_type": "markdown",
   "id": "7f7eac2d",
   "metadata": {},
   "source": [
    "<h1 style='text-align: center;'> Obteniendo Conocimiento </h1> \n",
    "<strong> Alumno: </strong> Daniel Dionicio Guzmán Chuva </br> \n",
    "<strong> Carrera: </strong> Computación </br>\n",
    "<strong> Asignatura: </strong> Inteligencia de negocios"
   ]
  },
  {
   "cell_type": "code",
   "execution_count": 284,
   "id": "3fa83571",
   "metadata": {},
   "outputs": [],
   "source": [
    "# Librerias utilizadas \n",
    "import pandas as pd\n",
    "import matplotlib.pyplot as plt\n",
    "from IPython.display import display, Markdown, clear_output\n",
    "import ipywidgets as widgets"
   ]
  },
  {
   "cell_type": "markdown",
   "id": "9e20831f",
   "metadata": {},
   "source": [
    "<h3 style='text-align: center;'> Mientras más estudiantes recibo ¿Hay más deserción? </h3>\n",
    "Para responder esta pregunta se han seleccionado las carreras más y menos demandadas de las diferentes sedes, correspondiente al cohorte 2016 - 2017. Posteriormente se obtiene el porcentaje de deserción de cada periodo de académico en las diferentes carreras y finalmente se realizar un análisis de los resultados obtenidos. \n",
    "\n",
    "Para que una carrera sea considerada de alta demanda debe superar las 100 inscripciones iniciales (Esto se ha seleccionado en base a mi criterio)."
   ]
  },
  {
   "cell_type": "code",
   "execution_count": 285,
   "id": "c4181d5f",
   "metadata": {},
   "outputs": [],
   "source": [
    "# Funciones propias\n",
    "def print_title(title):\n",
    "    display(Markdown(title))\n",
    "\n",
    "def calcular_porcentaje(row,data,periodos):\n",
    "    if row['PERÍODO ACADÉMICO CURSA'] == periodos[0]:\n",
    "        return 0;\n",
    "    else:\n",
    "        carrera = row['CARRERA']\n",
    "        periodo_actual = row['PERÍODO ACADÉMICO CURSA']  \n",
    "        sede = row['SEDE']\n",
    "        periodo_anterior = periodos.index(periodo_actual) - 1\n",
    "        aux = data[(data['CARRERA'] == carrera) & (data['SEDE'] == sede) & (data['PERÍODO ACADÉMICO CURSA'] == periodos[periodo_anterior])]\n",
    "        porcentaje = round(((aux['NRO ALUMNOS'] - row['NRO ALUMNOS']) * 100) / aux['NRO ALUMNOS'],2)\n",
    "        return porcentaje"
   ]
  },
  {
   "cell_type": "code",
   "execution_count": 288,
   "id": "6cc4ef87",
   "metadata": {},
   "outputs": [
    {
     "data": {
      "text/markdown": [
       "#### COHORTE 2016-2017 SEDE CUENCA"
      ],
      "text/plain": [
       "<IPython.core.display.Markdown object>"
      ]
     },
     "metadata": {},
     "output_type": "display_data"
    },
    {
     "data": {
      "text/markdown": [
       "**Lista de periodos academicos**"
      ],
      "text/plain": [
       "<IPython.core.display.Markdown object>"
      ]
     },
     "metadata": {},
     "output_type": "display_data"
    },
    {
     "name": "stdout",
     "output_type": "stream",
     "text": [
      "['2016 - 2017', '2017 - 2017', '2017 - 2018', '2018 - 2018', '2018 - 2019', '2019 - 2019', '2019 - 2020', '2020 - 2020', '2020 - 2021', '2021 - 2021', '2021 - 2022']\n"
     ]
    },
    {
     "data": {
      "text/markdown": [
       "**Carreras más demandadas**"
      ],
      "text/plain": [
       "<IPython.core.display.Markdown object>"
      ]
     },
     "metadata": {},
     "output_type": "display_data"
    },
    {
     "data": {
      "text/html": [
       "<div>\n",
       "<style scoped>\n",
       "    .dataframe tbody tr th:only-of-type {\n",
       "        vertical-align: middle;\n",
       "    }\n",
       "\n",
       "    .dataframe tbody tr th {\n",
       "        vertical-align: top;\n",
       "    }\n",
       "\n",
       "    .dataframe thead th {\n",
       "        text-align: right;\n",
       "    }\n",
       "</style>\n",
       "<table border=\"1\" class=\"dataframe\">\n",
       "  <thead>\n",
       "    <tr style=\"text-align: right;\">\n",
       "      <th></th>\n",
       "      <th>COHORTE</th>\n",
       "      <th>PERÍODO ACADÉMICO CURSA</th>\n",
       "      <th>SEDE</th>\n",
       "      <th>CAMPUS</th>\n",
       "      <th>CARRERA</th>\n",
       "      <th>ÁREA</th>\n",
       "      <th>MODALIDAD</th>\n",
       "      <th>TIPO PROYECTOEDUCATIVO</th>\n",
       "      <th>NRO ALUMNOS</th>\n",
       "    </tr>\n",
       "  </thead>\n",
       "  <tbody>\n",
       "    <tr>\n",
       "      <th>0</th>\n",
       "      <td>2016 - 2017</td>\n",
       "      <td>2016 - 2017</td>\n",
       "      <td>MATRIZ CUENCA</td>\n",
       "      <td>EL VECINO</td>\n",
       "      <td>COMPUTACIÓN</td>\n",
       "      <td>CIENCIA Y TECNOLOGÍA</td>\n",
       "      <td>PRESENCIAL</td>\n",
       "      <td>NUEVA O REDISEÑO</td>\n",
       "      <td>124</td>\n",
       "    </tr>\n",
       "    <tr>\n",
       "      <th>1</th>\n",
       "      <td>2016 - 2017</td>\n",
       "      <td>2016 - 2017</td>\n",
       "      <td>MATRIZ CUENCA</td>\n",
       "      <td>EL VECINO</td>\n",
       "      <td>ELECTRICIDAD</td>\n",
       "      <td>CIENCIA Y TECNOLOGÍA</td>\n",
       "      <td>PRESENCIAL</td>\n",
       "      <td>NUEVA O REDISEÑO</td>\n",
       "      <td>106</td>\n",
       "    </tr>\n",
       "    <tr>\n",
       "      <th>2</th>\n",
       "      <td>2016 - 2017</td>\n",
       "      <td>2016 - 2017</td>\n",
       "      <td>MATRIZ CUENCA</td>\n",
       "      <td>EL VECINO</td>\n",
       "      <td>MECATRÓNICA</td>\n",
       "      <td>CIENCIA Y TECNOLOGÍA</td>\n",
       "      <td>PRESENCIAL</td>\n",
       "      <td>NUEVA O REDISEÑO</td>\n",
       "      <td>132</td>\n",
       "    </tr>\n",
       "  </tbody>\n",
       "</table>\n",
       "</div>"
      ],
      "text/plain": [
       "       COHORTE PERÍODO ACADÉMICO CURSA           SEDE     CAMPUS  \\\n",
       "0  2016 - 2017             2016 - 2017  MATRIZ CUENCA  EL VECINO   \n",
       "1  2016 - 2017             2016 - 2017  MATRIZ CUENCA  EL VECINO   \n",
       "2  2016 - 2017             2016 - 2017  MATRIZ CUENCA  EL VECINO   \n",
       "\n",
       "        CARRERA                  ÁREA   MODALIDAD TIPO PROYECTOEDUCATIVO  \\\n",
       "0   COMPUTACIÓN  CIENCIA Y TECNOLOGÍA  PRESENCIAL       NUEVA O REDISEÑO   \n",
       "1  ELECTRICIDAD  CIENCIA Y TECNOLOGÍA  PRESENCIAL       NUEVA O REDISEÑO   \n",
       "2   MECATRÓNICA  CIENCIA Y TECNOLOGÍA  PRESENCIAL       NUEVA O REDISEÑO   \n",
       "\n",
       "   NRO ALUMNOS  \n",
       "0          124  \n",
       "1          106  \n",
       "2          132  "
      ]
     },
     "metadata": {},
     "output_type": "display_data"
    },
    {
     "data": {
      "text/markdown": [
       "**Carreras menos demandadas**"
      ],
      "text/plain": [
       "<IPython.core.display.Markdown object>"
      ]
     },
     "metadata": {},
     "output_type": "display_data"
    },
    {
     "data": {
      "text/html": [
       "<div>\n",
       "<style scoped>\n",
       "    .dataframe tbody tr th:only-of-type {\n",
       "        vertical-align: middle;\n",
       "    }\n",
       "\n",
       "    .dataframe tbody tr th {\n",
       "        vertical-align: top;\n",
       "    }\n",
       "\n",
       "    .dataframe thead th {\n",
       "        text-align: right;\n",
       "    }\n",
       "</style>\n",
       "<table border=\"1\" class=\"dataframe\">\n",
       "  <thead>\n",
       "    <tr style=\"text-align: right;\">\n",
       "      <th></th>\n",
       "      <th>COHORTE</th>\n",
       "      <th>PERÍODO ACADÉMICO CURSA</th>\n",
       "      <th>SEDE</th>\n",
       "      <th>CAMPUS</th>\n",
       "      <th>CARRERA</th>\n",
       "      <th>ÁREA</th>\n",
       "      <th>MODALIDAD</th>\n",
       "      <th>TIPO PROYECTOEDUCATIVO</th>\n",
       "      <th>NRO ALUMNOS</th>\n",
       "    </tr>\n",
       "  </thead>\n",
       "  <tbody>\n",
       "    <tr>\n",
       "      <th>0</th>\n",
       "      <td>2016 - 2017</td>\n",
       "      <td>2016 - 2017</td>\n",
       "      <td>MATRIZ CUENCA</td>\n",
       "      <td>EL VECINO</td>\n",
       "      <td>EDUCACIÓN BÁSICA</td>\n",
       "      <td>EDUCACION</td>\n",
       "      <td>PRESENCIAL</td>\n",
       "      <td>NUEVA O REDISEÑO</td>\n",
       "      <td>38</td>\n",
       "    </tr>\n",
       "    <tr>\n",
       "      <th>1</th>\n",
       "      <td>2016 - 2017</td>\n",
       "      <td>2016 - 2017</td>\n",
       "      <td>MATRIZ CUENCA</td>\n",
       "      <td>EL VECINO</td>\n",
       "      <td>EDUCACIÓN INICIAL</td>\n",
       "      <td>EDUCACION</td>\n",
       "      <td>PRESENCIAL</td>\n",
       "      <td>NUEVA O REDISEÑO</td>\n",
       "      <td>28</td>\n",
       "    </tr>\n",
       "    <tr>\n",
       "      <th>2</th>\n",
       "      <td>2016 - 2017</td>\n",
       "      <td>2016 - 2017</td>\n",
       "      <td>MATRIZ CUENCA</td>\n",
       "      <td>EL VECINO</td>\n",
       "      <td>ELECTRÓNICA Y AUTOMATIZACIÓN</td>\n",
       "      <td>CIENCIA Y TECNOLOGÍA</td>\n",
       "      <td>PRESENCIAL</td>\n",
       "      <td>NUEVA O REDISEÑO</td>\n",
       "      <td>50</td>\n",
       "    </tr>\n",
       "    <tr>\n",
       "      <th>3</th>\n",
       "      <td>2016 - 2017</td>\n",
       "      <td>2016 - 2017</td>\n",
       "      <td>MATRIZ CUENCA</td>\n",
       "      <td>EL VECINO</td>\n",
       "      <td>TELECOMUNICACIONES</td>\n",
       "      <td>CIENCIA Y TECNOLOGÍA</td>\n",
       "      <td>PRESENCIAL</td>\n",
       "      <td>NUEVA O REDISEÑO</td>\n",
       "      <td>25</td>\n",
       "    </tr>\n",
       "  </tbody>\n",
       "</table>\n",
       "</div>"
      ],
      "text/plain": [
       "       COHORTE PERÍODO ACADÉMICO CURSA           SEDE     CAMPUS  \\\n",
       "0  2016 - 2017             2016 - 2017  MATRIZ CUENCA  EL VECINO   \n",
       "1  2016 - 2017             2016 - 2017  MATRIZ CUENCA  EL VECINO   \n",
       "2  2016 - 2017             2016 - 2017  MATRIZ CUENCA  EL VECINO   \n",
       "3  2016 - 2017             2016 - 2017  MATRIZ CUENCA  EL VECINO   \n",
       "\n",
       "                        CARRERA                  ÁREA   MODALIDAD  \\\n",
       "0              EDUCACIÓN BÁSICA             EDUCACION  PRESENCIAL   \n",
       "1             EDUCACIÓN INICIAL             EDUCACION  PRESENCIAL   \n",
       "2  ELECTRÓNICA Y AUTOMATIZACIÓN  CIENCIA Y TECNOLOGÍA  PRESENCIAL   \n",
       "3            TELECOMUNICACIONES  CIENCIA Y TECNOLOGÍA  PRESENCIAL   \n",
       "\n",
       "  TIPO PROYECTOEDUCATIVO  NRO ALUMNOS  \n",
       "0       NUEVA O REDISEÑO           38  \n",
       "1       NUEVA O REDISEÑO           28  \n",
       "2       NUEVA O REDISEÑO           50  \n",
       "3       NUEVA O REDISEÑO           25  "
      ]
     },
     "metadata": {},
     "output_type": "display_data"
    }
   ],
   "source": [
    "print_title('#### COHORTE 2016-2017 SEDE CUENCA')\n",
    "\n",
    "cohorte = pd.read_excel('./DataCleaning/Numero_grupos_ofertados_cohorte_2016_2017_49_marzo2022.xlsx')\n",
    "periodos = cohorte['PERÍODO ACADÉMICO CURSA'].unique().tolist()\n",
    "labels = cohorte['CARRERA'].unique().tolist()\n",
    "\n",
    "print_title('**Lista de periodos academicos**')\n",
    "print(periodos)\n",
    "\n",
    "carreras_mas_demandadas = cohorte[(cohorte['NRO ALUMNOS'] > 100) & (cohorte['SEDE'] == 'MATRIZ CUENCA') & (cohorte['PERÍODO ACADÉMICO CURSA'] == periodos[0])]\n",
    "carreras_mas_demandadas = carreras_mas_demandadas.reset_index(drop=True)\n",
    "carreras_menos_demandadas = cohorte[(cohorte['NRO ALUMNOS'] < 100) & (cohorte['SEDE'] == 'MATRIZ CUENCA') & (cohorte['PERÍODO ACADÉMICO CURSA'] == periodos[0])]\n",
    "carreras_menos_demandadas = carreras_menos_demandadas.reset_index(drop=True)\n",
    "\n",
    "carreras = (cohorte[(cohorte['SEDE'] == 'MATRIZ CUENCA') & (cohorte['PERÍODO ACADÉMICO CURSA'] == periodos[0])]).reset_index(drop=True)\n",
    "data = {} \n",
    "for i in carreras.index:\n",
    "    data[f\"{carreras['CARRERA'][i]} - {carreras['NRO ALUMNOS'][i]} ALUMNOS\"] = carreras['CARRERA'][i]\n",
    "print_title('**Carreras más demandadas**')\n",
    "display(carreras_mas_demandadas)\n",
    "print_title('**Carreras menos demandadas**')\n",
    "display(carreras_menos_demandadas)\n"
   ]
  },
  {
   "cell_type": "code",
   "execution_count": 290,
   "id": "7983b468",
   "metadata": {},
   "outputs": [
    {
     "data": {
      "text/markdown": [
       "#### COHORTE 2016-2017 SEDE QUITO"
      ],
      "text/plain": [
       "<IPython.core.display.Markdown object>"
      ]
     },
     "metadata": {},
     "output_type": "display_data"
    },
    {
     "data": {
      "text/markdown": [
       "**Carreras más demandadas**"
      ],
      "text/plain": [
       "<IPython.core.display.Markdown object>"
      ]
     },
     "metadata": {},
     "output_type": "display_data"
    },
    {
     "data": {
      "text/html": [
       "<div>\n",
       "<style scoped>\n",
       "    .dataframe tbody tr th:only-of-type {\n",
       "        vertical-align: middle;\n",
       "    }\n",
       "\n",
       "    .dataframe tbody tr th {\n",
       "        vertical-align: top;\n",
       "    }\n",
       "\n",
       "    .dataframe thead th {\n",
       "        text-align: right;\n",
       "    }\n",
       "</style>\n",
       "<table border=\"1\" class=\"dataframe\">\n",
       "  <thead>\n",
       "    <tr style=\"text-align: right;\">\n",
       "      <th></th>\n",
       "      <th>COHORTE</th>\n",
       "      <th>PERÍODO ACADÉMICO CURSA</th>\n",
       "      <th>SEDE</th>\n",
       "      <th>CAMPUS</th>\n",
       "      <th>CARRERA</th>\n",
       "      <th>ÁREA</th>\n",
       "      <th>MODALIDAD</th>\n",
       "      <th>TIPO PROYECTOEDUCATIVO</th>\n",
       "      <th>NRO ALUMNOS</th>\n",
       "    </tr>\n",
       "  </thead>\n",
       "  <tbody>\n",
       "    <tr>\n",
       "      <th>0</th>\n",
       "      <td>2016 - 2017</td>\n",
       "      <td>2016 - 2017</td>\n",
       "      <td>QUITO</td>\n",
       "      <td>SUR</td>\n",
       "      <td>COMPUTACIÓN</td>\n",
       "      <td>CIENCIA Y TECNOLOGÍA</td>\n",
       "      <td>PRESENCIAL</td>\n",
       "      <td>NUEVA O REDISEÑO</td>\n",
       "      <td>137</td>\n",
       "    </tr>\n",
       "    <tr>\n",
       "      <th>1</th>\n",
       "      <td>2016 - 2017</td>\n",
       "      <td>2016 - 2017</td>\n",
       "      <td>QUITO</td>\n",
       "      <td>SUR</td>\n",
       "      <td>INGENIERÍA CIVIL</td>\n",
       "      <td>CIENCIA Y TECNOLOGÍA</td>\n",
       "      <td>PRESENCIAL</td>\n",
       "      <td>NUEVA O REDISEÑO</td>\n",
       "      <td>165</td>\n",
       "    </tr>\n",
       "  </tbody>\n",
       "</table>\n",
       "</div>"
      ],
      "text/plain": [
       "       COHORTE PERÍODO ACADÉMICO CURSA   SEDE CAMPUS           CARRERA  \\\n",
       "0  2016 - 2017             2016 - 2017  QUITO    SUR       COMPUTACIÓN   \n",
       "1  2016 - 2017             2016 - 2017  QUITO    SUR  INGENIERÍA CIVIL   \n",
       "\n",
       "                   ÁREA   MODALIDAD TIPO PROYECTOEDUCATIVO  NRO ALUMNOS  \n",
       "0  CIENCIA Y TECNOLOGÍA  PRESENCIAL       NUEVA O REDISEÑO          137  \n",
       "1  CIENCIA Y TECNOLOGÍA  PRESENCIAL       NUEVA O REDISEÑO          165  "
      ]
     },
     "metadata": {},
     "output_type": "display_data"
    },
    {
     "data": {
      "text/markdown": [
       "**Carreras menos demandadas**"
      ],
      "text/plain": [
       "<IPython.core.display.Markdown object>"
      ]
     },
     "metadata": {},
     "output_type": "display_data"
    },
    {
     "data": {
      "text/html": [
       "<div>\n",
       "<style scoped>\n",
       "    .dataframe tbody tr th:only-of-type {\n",
       "        vertical-align: middle;\n",
       "    }\n",
       "\n",
       "    .dataframe tbody tr th {\n",
       "        vertical-align: top;\n",
       "    }\n",
       "\n",
       "    .dataframe thead th {\n",
       "        text-align: right;\n",
       "    }\n",
       "</style>\n",
       "<table border=\"1\" class=\"dataframe\">\n",
       "  <thead>\n",
       "    <tr style=\"text-align: right;\">\n",
       "      <th></th>\n",
       "      <th>COHORTE</th>\n",
       "      <th>PERÍODO ACADÉMICO CURSA</th>\n",
       "      <th>SEDE</th>\n",
       "      <th>CAMPUS</th>\n",
       "      <th>CARRERA</th>\n",
       "      <th>ÁREA</th>\n",
       "      <th>MODALIDAD</th>\n",
       "      <th>TIPO PROYECTOEDUCATIVO</th>\n",
       "      <th>NRO ALUMNOS</th>\n",
       "    </tr>\n",
       "  </thead>\n",
       "  <tbody>\n",
       "    <tr>\n",
       "      <th>0</th>\n",
       "      <td>2016 - 2017</td>\n",
       "      <td>2016 - 2017</td>\n",
       "      <td>QUITO</td>\n",
       "      <td>EL GIRÓN</td>\n",
       "      <td>EDUCACIÓN</td>\n",
       "      <td>EDUCACION</td>\n",
       "      <td>PRESENCIAL</td>\n",
       "      <td>NUEVA O REDISEÑO</td>\n",
       "      <td>17</td>\n",
       "    </tr>\n",
       "    <tr>\n",
       "      <th>1</th>\n",
       "      <td>2016 - 2017</td>\n",
       "      <td>2016 - 2017</td>\n",
       "      <td>QUITO</td>\n",
       "      <td>EL GIRÓN</td>\n",
       "      <td>EDUCACIÓN BÁSICA</td>\n",
       "      <td>EDUCACION</td>\n",
       "      <td>PRESENCIAL</td>\n",
       "      <td>NUEVA O REDISEÑO</td>\n",
       "      <td>53</td>\n",
       "    </tr>\n",
       "    <tr>\n",
       "      <th>2</th>\n",
       "      <td>2016 - 2017</td>\n",
       "      <td>2016 - 2017</td>\n",
       "      <td>QUITO</td>\n",
       "      <td>EL GIRÓN</td>\n",
       "      <td>EDUCACIÓN INICIAL</td>\n",
       "      <td>EDUCACION</td>\n",
       "      <td>PRESENCIAL</td>\n",
       "      <td>NUEVA O REDISEÑO</td>\n",
       "      <td>61</td>\n",
       "    </tr>\n",
       "    <tr>\n",
       "      <th>3</th>\n",
       "      <td>2016 - 2017</td>\n",
       "      <td>2016 - 2017</td>\n",
       "      <td>QUITO</td>\n",
       "      <td>SUR</td>\n",
       "      <td>ELECTRICIDAD</td>\n",
       "      <td>CIENCIA Y TECNOLOGÍA</td>\n",
       "      <td>PRESENCIAL</td>\n",
       "      <td>NUEVA O REDISEÑO</td>\n",
       "      <td>91</td>\n",
       "    </tr>\n",
       "  </tbody>\n",
       "</table>\n",
       "</div>"
      ],
      "text/plain": [
       "       COHORTE PERÍODO ACADÉMICO CURSA   SEDE    CAMPUS            CARRERA  \\\n",
       "0  2016 - 2017             2016 - 2017  QUITO  EL GIRÓN          EDUCACIÓN   \n",
       "1  2016 - 2017             2016 - 2017  QUITO  EL GIRÓN   EDUCACIÓN BÁSICA   \n",
       "2  2016 - 2017             2016 - 2017  QUITO  EL GIRÓN  EDUCACIÓN INICIAL   \n",
       "3  2016 - 2017             2016 - 2017  QUITO       SUR       ELECTRICIDAD   \n",
       "\n",
       "                   ÁREA   MODALIDAD TIPO PROYECTOEDUCATIVO  NRO ALUMNOS  \n",
       "0             EDUCACION  PRESENCIAL       NUEVA O REDISEÑO           17  \n",
       "1             EDUCACION  PRESENCIAL       NUEVA O REDISEÑO           53  \n",
       "2             EDUCACION  PRESENCIAL       NUEVA O REDISEÑO           61  \n",
       "3  CIENCIA Y TECNOLOGÍA  PRESENCIAL       NUEVA O REDISEÑO           91  "
      ]
     },
     "metadata": {},
     "output_type": "display_data"
    }
   ],
   "source": [
    "print_title('#### COHORTE 2016-2017 SEDE QUITO')\n",
    "\n",
    "cohorte = pd.read_excel('./DataCleaning/Numero_grupos_ofertados_cohorte_2016_2017_49_marzo2022.xlsx')\n",
    "\n",
    "carreras_mas_demandadas = cohorte[(cohorte['NRO ALUMNOS'] > 100) & (cohorte['SEDE'] == 'QUITO') & (cohorte['PERÍODO ACADÉMICO CURSA'] == periodos[0])]\n",
    "carreras_mas_demandadas = carreras_mas_demandadas.reset_index(drop=True)\n",
    "carreras_menos_demandadas = cohorte[(cohorte['NRO ALUMNOS'] < 100) & (cohorte['SEDE'] == 'QUITO') & (cohorte['PERÍODO ACADÉMICO CURSA'] == periodos[0])]\n",
    "carreras_menos_demandadas = carreras_menos_demandadas.reset_index(drop=True)\n",
    "\n",
    "carreras = (cohorte[(cohorte['SEDE'] == 'QUITO') & (cohorte['PERÍODO ACADÉMICO CURSA'] == periodos[0])]).reset_index(drop=True)\n",
    "data = {} \n",
    "for i in carreras.index:\n",
    "    data[f\"{carreras['CARRERA'][i]} - {carreras['NRO ALUMNOS'][i]} ALUMNOS\"] = carreras['CARRERA'][i]\n",
    "print_title('**Carreras más demandadas**')\n",
    "display(carreras_mas_demandadas)\n",
    "print_title('**Carreras menos demandadas**')\n",
    "display(carreras_menos_demandadas)\n"
   ]
  },
  {
   "cell_type": "code",
   "execution_count": 291,
   "id": "e92fd326",
   "metadata": {},
   "outputs": [
    {
     "data": {
      "text/markdown": [
       "#### COHORTE 2016-2017 SEDE GUAYAQUIL"
      ],
      "text/plain": [
       "<IPython.core.display.Markdown object>"
      ]
     },
     "metadata": {},
     "output_type": "display_data"
    },
    {
     "data": {
      "text/markdown": [
       "**Carreras más demandadas**"
      ],
      "text/plain": [
       "<IPython.core.display.Markdown object>"
      ]
     },
     "metadata": {},
     "output_type": "display_data"
    },
    {
     "data": {
      "text/html": [
       "<div>\n",
       "<style scoped>\n",
       "    .dataframe tbody tr th:only-of-type {\n",
       "        vertical-align: middle;\n",
       "    }\n",
       "\n",
       "    .dataframe tbody tr th {\n",
       "        vertical-align: top;\n",
       "    }\n",
       "\n",
       "    .dataframe thead th {\n",
       "        text-align: right;\n",
       "    }\n",
       "</style>\n",
       "<table border=\"1\" class=\"dataframe\">\n",
       "  <thead>\n",
       "    <tr style=\"text-align: right;\">\n",
       "      <th></th>\n",
       "      <th>COHORTE</th>\n",
       "      <th>PERÍODO ACADÉMICO CURSA</th>\n",
       "      <th>SEDE</th>\n",
       "      <th>CAMPUS</th>\n",
       "      <th>CARRERA</th>\n",
       "      <th>ÁREA</th>\n",
       "      <th>MODALIDAD</th>\n",
       "      <th>TIPO PROYECTOEDUCATIVO</th>\n",
       "      <th>NRO ALUMNOS</th>\n",
       "    </tr>\n",
       "  </thead>\n",
       "  <tbody>\n",
       "  </tbody>\n",
       "</table>\n",
       "</div>"
      ],
      "text/plain": [
       "Empty DataFrame\n",
       "Columns: [COHORTE, PERÍODO ACADÉMICO CURSA, SEDE, CAMPUS, CARRERA, ÁREA, MODALIDAD, TIPO PROYECTOEDUCATIVO, NRO ALUMNOS]\n",
       "Index: []"
      ]
     },
     "metadata": {},
     "output_type": "display_data"
    },
    {
     "data": {
      "text/markdown": [
       "**Carreras menos demandadas**"
      ],
      "text/plain": [
       "<IPython.core.display.Markdown object>"
      ]
     },
     "metadata": {},
     "output_type": "display_data"
    },
    {
     "data": {
      "text/html": [
       "<div>\n",
       "<style scoped>\n",
       "    .dataframe tbody tr th:only-of-type {\n",
       "        vertical-align: middle;\n",
       "    }\n",
       "\n",
       "    .dataframe tbody tr th {\n",
       "        vertical-align: top;\n",
       "    }\n",
       "\n",
       "    .dataframe thead th {\n",
       "        text-align: right;\n",
       "    }\n",
       "</style>\n",
       "<table border=\"1\" class=\"dataframe\">\n",
       "  <thead>\n",
       "    <tr style=\"text-align: right;\">\n",
       "      <th></th>\n",
       "      <th>COHORTE</th>\n",
       "      <th>PERÍODO ACADÉMICO CURSA</th>\n",
       "      <th>SEDE</th>\n",
       "      <th>CAMPUS</th>\n",
       "      <th>CARRERA</th>\n",
       "      <th>ÁREA</th>\n",
       "      <th>MODALIDAD</th>\n",
       "      <th>TIPO PROYECTOEDUCATIVO</th>\n",
       "      <th>NRO ALUMNOS</th>\n",
       "    </tr>\n",
       "  </thead>\n",
       "  <tbody>\n",
       "    <tr>\n",
       "      <th>0</th>\n",
       "      <td>2016 - 2017</td>\n",
       "      <td>2016 - 2017</td>\n",
       "      <td>GUAYAQUIL</td>\n",
       "      <td>CENTENARIO</td>\n",
       "      <td>COMPUTACIÓN</td>\n",
       "      <td>CIENCIA Y TECNOLOGÍA</td>\n",
       "      <td>PRESENCIAL</td>\n",
       "      <td>NUEVA O REDISEÑO</td>\n",
       "      <td>69</td>\n",
       "    </tr>\n",
       "    <tr>\n",
       "      <th>1</th>\n",
       "      <td>2016 - 2017</td>\n",
       "      <td>2016 - 2017</td>\n",
       "      <td>GUAYAQUIL</td>\n",
       "      <td>CENTENARIO</td>\n",
       "      <td>ELECTRICIDAD</td>\n",
       "      <td>CIENCIA Y TECNOLOGÍA</td>\n",
       "      <td>PRESENCIAL</td>\n",
       "      <td>NUEVA O REDISEÑO</td>\n",
       "      <td>50</td>\n",
       "    </tr>\n",
       "  </tbody>\n",
       "</table>\n",
       "</div>"
      ],
      "text/plain": [
       "       COHORTE PERÍODO ACADÉMICO CURSA       SEDE      CAMPUS       CARRERA  \\\n",
       "0  2016 - 2017             2016 - 2017  GUAYAQUIL  CENTENARIO   COMPUTACIÓN   \n",
       "1  2016 - 2017             2016 - 2017  GUAYAQUIL  CENTENARIO  ELECTRICIDAD   \n",
       "\n",
       "                   ÁREA   MODALIDAD TIPO PROYECTOEDUCATIVO  NRO ALUMNOS  \n",
       "0  CIENCIA Y TECNOLOGÍA  PRESENCIAL       NUEVA O REDISEÑO           69  \n",
       "1  CIENCIA Y TECNOLOGÍA  PRESENCIAL       NUEVA O REDISEÑO           50  "
      ]
     },
     "metadata": {},
     "output_type": "display_data"
    }
   ],
   "source": [
    "print_title('#### COHORTE 2016-2017 SEDE GUAYAQUIL')\n",
    "\n",
    "cohorte = pd.read_excel('./DataCleaning/Numero_grupos_ofertados_cohorte_2016_2017_49_marzo2022.xlsx')\n",
    "\n",
    "carreras_mas_demandadas = cohorte[(cohorte['NRO ALUMNOS'] > 100) & (cohorte['SEDE'] == 'GUAYAQUIL') & (cohorte['PERÍODO ACADÉMICO CURSA'] == periodos[0])]\n",
    "carreras_mas_demandadas = carreras_mas_demandadas.reset_index(drop=True)\n",
    "carreras_menos_demandadas = cohorte[(cohorte['NRO ALUMNOS'] < 100) & (cohorte['SEDE'] == 'GUAYAQUIL') & (cohorte['PERÍODO ACADÉMICO CURSA'] == periodos[0])]\n",
    "carreras_menos_demandadas = carreras_menos_demandadas.reset_index(drop=True)\n",
    "\n",
    "carreras = (cohorte[(cohorte['SEDE'] == 'GUAYAQUIL') & (cohorte['PERÍODO ACADÉMICO CURSA'] == periodos[0])]).reset_index(drop=True)\n",
    "data = {} \n",
    "for i in carreras.index:\n",
    "    data[f\"{carreras['CARRERA'][i]} - {carreras['NRO ALUMNOS'][i]} ALUMNOS\"] = carreras['CARRERA'][i]\n",
    "print_title('**Carreras más demandadas**')\n",
    "display(carreras_mas_demandadas)\n",
    "print_title('**Carreras menos demandadas**')\n",
    "display(carreras_menos_demandadas)"
   ]
  },
  {
   "cell_type": "markdown",
   "id": "cb60ef73",
   "metadata": {},
   "source": [
    "### Gráfico Interactivo "
   ]
  },
  {
   "cell_type": "code",
   "execution_count": 293,
   "id": "a6964524",
   "metadata": {},
   "outputs": [
    {
     "data": {
      "text/markdown": [
       "**Gráfica resultante**"
      ],
      "text/plain": [
       "<IPython.core.display.Markdown object>"
      ]
     },
     "metadata": {},
     "output_type": "display_data"
    },
    {
     "data": {
      "text/markdown": [
       "Seleccione la sede y las carreras deseadas para mostrar el porcentaje de deserción estudiantil."
      ],
      "text/plain": [
       "<IPython.core.display.Markdown object>"
      ]
     },
     "metadata": {},
     "output_type": "display_data"
    },
    {
     "data": {
      "application/vnd.jupyter.widget-view+json": {
       "model_id": "65a7f550e4314026ac6764fa2492b6a2",
       "version_major": 2,
       "version_minor": 0
      },
      "text/plain": [
       "interactive(children=(Dropdown(description='name', options=('MATRIZ CUENCA', 'QUITO', 'GUAYAQUIL'), value='MAT…"
      ]
     },
     "metadata": {},
     "output_type": "display_data"
    }
   ],
   "source": [
    "cohorte['% DE DESERCIÓN'] = cohorte.apply(lambda row: calcular_porcentaje(row,cohorte,periodos), axis=1)\n",
    "cohorte['% DE DESERCIÓN'] = cohorte['% DE DESERCIÓN'].astype(float)\n",
    "\n",
    "print_title('**Gráfica resultante**')\n",
    "print_title('Seleccione la sede y las carreras deseadas para mostrar el porcentaje de deserción estudiantil.')\n",
    "sede = 'MATRIZ CUENCA'\n",
    "\n",
    "def say_my_name(name):\n",
    "    carreras = (cohorte[(cohorte['SEDE'] == name) & (cohorte['PERÍODO ACADÉMICO CURSA'] == periodos[0])]).reset_index(drop=True)\n",
    "    data = {} \n",
    "    for i in carreras.index:\n",
    "        data[f\"{carreras['CARRERA'][i]} - {carreras['NRO ALUMNOS'][i]} ALUMNOS\"] = carreras['CARRERA'][i]\n",
    "        \n",
    "    names = []\n",
    "    checkbox_objects = []\n",
    "    \n",
    "    for key in data:\n",
    "        checkbox_objects.append(widgets.Checkbox(value=False, description=key))\n",
    "        names.append(key)\n",
    "    \n",
    "    checkbox_objects.append(widgets.Checkbox(value=False, disabled=True, description=name))\n",
    "    names.append(name)\n",
    "\n",
    "    arg_dict = {names[i]: checkbox for i, checkbox in enumerate(checkbox_objects)}\n",
    "\n",
    "    ui = widgets.VBox(children=checkbox_objects)\n",
    "    out = widgets.interactive_output(select_data, arg_dict)\n",
    "\n",
    "    display(ui, out)\n",
    "\n",
    "selected_data = []\n",
    "def select_data(**kwargs):\n",
    "    selected_data.clear()\n",
    "    plt.figure(figsize=(15,10))\n",
    "    \n",
    "    sede = list(kwargs)[-1]\n",
    "    for key in kwargs:\n",
    "        if kwargs[key] is True and key != 'MATRIZ CUENCA' and key !='QUITO' and key != 'GUAYAQUIL':\n",
    "            selected_data.append(key)\n",
    "            data_carrera = (cohorte[(cohorte['CARRERA']== (key.split('-')[0]).strip()) & (cohorte['SEDE'] == sede)]).reset_index(drop=True)\n",
    "            plt.plot(periodos,data_carrera['% DE DESERCIÓN'],marker='o',label=(key.split('-')[0]).strip())\n",
    "\n",
    "    plt.title('Deserción Estudiantil')\n",
    "    plt.xlabel('Período Académico')\n",
    "    plt.ylabel('% de Deserción')\n",
    "    plt.legend()\n",
    "    plt.show()\n",
    "\n",
    "    print(selected_data)\n",
    "    \n",
    "sede_widget = widgets.interact(say_my_name, name=[\"MATRIZ CUENCA\",\"QUITO\", \"GUAYAQUIL\"]);\n",
    "sede_widget.widget.children[0].description = 'SEDE'\n"
   ]
  },
  {
   "cell_type": "markdown",
   "id": "6b8cb11e",
   "metadata": {},
   "source": [
    "### Conclusiones\n",
    "\n",
    "1. Según los resultados obtenidos se puede decir que el porcentaje de las deserciones no se ve influenciado de gran manera por el número de estudiantes inscritos en una carrera, las deserciones son muy parecidas tanto en carreras de alta y baja demanda. Sin embargo, el mayor número de deserciones sucede durante los 3 primeros ciclos de carrera, según lo que se observa en los resultados de las diferentes sedes.\n",
    "2.En las carreras de menor demanda existe una mayor tendencia a finalizar sus estudios en el ciclo correspondiente, es decir, que la mayoría de los estudiantes se gradúan sin perder materias por ello se observa un gran porcentaje de deserción en el 10mo ciclo, mientras que en las carreras de mayor demanda se tiende a posponer su finalización algunos ciclos más, en principio se diría que es por la dificultad de la área. \n"
   ]
  }
 ],
 "metadata": {
  "kernelspec": {
   "display_name": "Python 3 (ipykernel)",
   "language": "python",
   "name": "python3"
  },
  "language_info": {
   "codemirror_mode": {
    "name": "ipython",
    "version": 3
   },
   "file_extension": ".py",
   "mimetype": "text/x-python",
   "name": "python",
   "nbconvert_exporter": "python",
   "pygments_lexer": "ipython3",
   "version": "3.9.11"
  }
 },
 "nbformat": 4,
 "nbformat_minor": 5
}
