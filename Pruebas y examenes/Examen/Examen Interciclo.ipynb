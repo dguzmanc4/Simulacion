{
 "cells": [
  {
   "cell_type": "markdown",
   "id": "d428e217",
   "metadata": {},
   "source": [
    "<h1 style='text-align: center;'> Examen Interciclo </h1>"
   ]
  },
  {
   "cell_type": "code",
   "execution_count": 9,
   "id": "a3221f0a",
   "metadata": {},
   "outputs": [],
   "source": [
    "import math\n",
    "import random\n",
    "import numpy as np\n",
    "import matplotlib.pyplot as plt"
   ]
  },
  {
   "cell_type": "markdown",
   "id": "42a905c8",
   "metadata": {},
   "source": [
    "<h3> Funciones </h3>"
   ]
  },
  {
   "cell_type": "code",
   "execution_count": 10,
   "id": "724f8b5a",
   "metadata": {},
   "outputs": [],
   "source": [
    "\"\"\"\n",
    "td - todos diferentes\n",
    "1p - 1 par\n",
    "2p - 2 pares\n",
    "tercia - 3 iguales\n",
    "full - 1 trio y 1 par\n",
    "poker - 4 iguales\n",
    "quintilla - todos iguales\n",
    "\"\"\"\n",
    "\n",
    "def quintilla(numero):\n",
    "    digito1 = numero[0]\n",
    "    for digito in numero:\n",
    "        if digito != digito1:\n",
    "            return False\n",
    "    return True\n",
    "\n",
    "\n",
    "def full(numero):\n",
    "    guia = dict.fromkeys(numero, 0)\n",
    "    for digito in numero:\n",
    "        guia[digito]+=1\n",
    "    if(2 in guia.values() and 3 in guia.values()):\n",
    "        return True\n",
    "    return False\n",
    "\n",
    "def poker(numero):\n",
    "    if(tercia(numero)):\n",
    "\n",
    "        guia = dict.fromkeys(numero, 0)\n",
    "        for digito in numero:\n",
    "            guia[digito]+=1\n",
    "        for conteo in guia.values():\n",
    "            if conteo >= 4:\n",
    "                return True\n",
    "        return False\n",
    "    else:\n",
    "        return False\n",
    "    \n",
    "def tercia(numero):\n",
    "    guia = dict.fromkeys(numero, 0)\n",
    "    for digito in numero:\n",
    "        guia[digito]+=1\n",
    "    for conteo in guia.values():\n",
    "        if conteo >= 3:\n",
    "            return True\n",
    "    return False\n",
    "\n",
    "def onep(numero):\n",
    "    guia = dict.fromkeys(numero, 0)\n",
    "    for digito in numero:\n",
    "        guia[digito]+=1\n",
    "    for conteo in guia.values():\n",
    "        if conteo >= 2:\n",
    "            return True\n",
    "    return False\n",
    "\n",
    "def twop(numero):\n",
    "\n",
    "    guia = dict.fromkeys(numero, 0)\n",
    "    for digito in numero:\n",
    "        guia[digito]+=1\n",
    "    if onep(numero):\n",
    "        par = None\n",
    "        for conteo in guia.items():\n",
    "            if conteo[1] >= 2:\n",
    "                par = conteo[0]\n",
    "                break\n",
    "        del guia[par]\n",
    "        for conteo in guia.values():\n",
    "            if conteo >= 2:\n",
    "                return True\n",
    "        return False\n",
    "    else:\n",
    "        return False\n",
    "    \n",
    "def td(numero):\n",
    "    return not (len(numero) != len(set(numero)))\n",
    "\n",
    "def tipo(numero):\n",
    "    if quintilla(numero):\n",
    "        return 'quintilla'\n",
    "    elif poker(numero):\n",
    "        return 'poker'\n",
    "    elif full(numero):\n",
    "        return 'full'\n",
    "    elif tercia(numero):\n",
    "        return 'tercia'\n",
    "    elif twop(numero):\n",
    "        return '2p'\n",
    "    elif onep(numero):\n",
    "        return '1p'\n",
    "    else:\n",
    "        return 'td'\n",
    "    \n",
    "def contabilizar_conjuntos(random_numbers):\n",
    "    frecuencias = {'td':0, '1p':0, '2p':0, 'tercia':0, 'full':0, 'poker':0, 'quintilla':0}\n",
    "    for numero in random_numbers:\n",
    "        numero = np.format_float_positional(numero)\n",
    "        #numero = format(numero, 'f')\n",
    "        #print(numero)\n",
    "        #if len(numero) > 2:\n",
    "        numero = numero.split('.')[1][:5]\n",
    "        #else:\n",
    "            #numero = '0'\n",
    "        #print(numero)\n",
    "        frecuencias[tipo(numero)] += 1\n",
    "    #print(frecuencias)\n",
    "    return frecuencias\n",
    "\n",
    "N = 100\n",
    "dict_tabla_probabilidad = {'td':0.3024, \n",
    "                           '1p':0.5040, \n",
    "                           '2p':0.1080, \n",
    "                           'tercia':0.0720, \n",
    "                           'full':0.0090, \n",
    "                           'poker':0.0045, \n",
    "                           'quintilla':0.0001}\n",
    "\n",
    "def generar_tabla_probabilidad(n):\n",
    "    dict_frecuenciaaaaaa = {'td':0, '1p':0, '2p':0, 'tercia':0, 'full':0, 'poker':0, 'quintilla':0}\n",
    "    for key in dict_frecuenciaaaaaa.keys():\n",
    "        dict_frecuenciaaaaaa[key] = round(dict_tabla_probabilidad[key] * n, 3)\n",
    "    return dict_frecuenciaaaaaa\n",
    "\n",
    "def aplicar_formula(dict_frecuencias, dict_tabla_probabilidad):\n",
    "    dict_aux = dict_frecuencias.copy()\n",
    "    for key in dict_aux.keys():\n",
    "        #print(dict_tabla_probabilidad[key], dict_frecuencias[key])\n",
    "        dict_aux[key] = round((dict_tabla_probabilidad[key] - dict_frecuencias[key])**2 / dict_tabla_probabilidad[key], 3)\n",
    "        #print( dict_aux[key])\n",
    "    #print(dict_aux)\n",
    "    return dict_aux\n",
    "\n",
    "def calcular_suma(resultado):\n",
    "    #print(resultado.values())\n",
    "    return round(sum(resultado.values()),3)\n",
    "    \n",
    "def comprobar(resultado):\n",
    "    result = 'Rechazado'\n",
    "    if resultado < 12.59:\n",
    "        result = 'Aceptado'\n",
    "    return result"
   ]
  },
  {
   "cell_type": "code",
   "execution_count": null,
   "id": "33b9d404",
   "metadata": {},
   "outputs": [],
   "source": [
    "import numpy\n",
    "x = 0.006500\n",
    "\n",
    "print(type(x))\n",
    "x = numpy.format_float_positional(x,5)\n",
    "print(type(x), x)\n"
   ]
  },
  {
   "cell_type": "code",
   "execution_count": null,
   "id": "cad66524",
   "metadata": {},
   "outputs": [],
   "source": [
    "\n",
    "\n",
    "a = 0.66000\n",
    "a = format(a, 'f')\n",
    "print(type(a), a)\n",
    "\n",
    "a = 0.06600\n",
    "a = format(a, 'f')\n",
    "print(type(a), a)\n",
    "\n",
    "\n",
    "print(np.format_float_positional(0))\n"
   ]
  },
  {
   "cell_type": "code",
   "execution_count": null,
   "id": "d5518369",
   "metadata": {},
   "outputs": [],
   "source": [
    "numeros = [0.6009619083013497, 0.7544824379607146, 0.12043532987383554, 0.2238116361922322]\n",
    "frecuencia = contabilizar_conjuntos(numeros)\n",
    "print(frecuencia)\n",
    "tabla = generar_tabla_probabilidad(100)\n",
    "resultado = aplicar_formula(frecuencia,tabla)\n",
    "suma = calcular_suma(resultado) \n",
    "result = comprobar(suma)\n",
    "print(suma)\n",
    "print(result)"
   ]
  },
  {
   "cell_type": "markdown",
   "id": "2d9e18a7",
   "metadata": {},
   "source": [
    "<h3>  Random de Python </h3>"
   ]
  },
  {
   "cell_type": "code",
   "execution_count": 11,
   "id": "f13b7540",
   "metadata": {},
   "outputs": [
    {
     "name": "stdout",
     "output_type": "stream",
     "text": [
      "Frecuencia: {'td': 32, '1p': 52, '2p': 7, 'tercia': 9, 'full': 0, 'poker': 0, 'quintilla': 0}\n",
      "Tabla Generada {'td': 30.24, '1p': 50.4, '2p': 10.8, 'tercia': 7.2, 'full': 0.9, 'poker': 0.45, 'quintilla': 0.01}\n",
      "Aplicación de formula: {'td': 0.102, '1p': 0.051, '2p': 1.337, 'tercia': 0.45, 'full': 0.9, 'poker': 0.45, 'quintilla': 0.01}\n",
      "Suma: 3.3\n",
      "Comprobación: Aceptado\n"
     ]
    }
   ],
   "source": [
    "list_random = []\n",
    "random.seed(1032022)\n",
    "for i in range(100):\n",
    "    list_random.append(random.random())\n",
    "\n",
    "frecuencias_python = contabilizar_conjuntos(list_random)\n",
    "tabla_generada_python = generar_tabla_probabilidad(100)\n",
    "resultado_aplicar_formula_python = aplicar_formula(frecuencias_python,tabla_generada_python)\n",
    "suma_python = calcular_suma(resultado_aplicar_formula_python) \n",
    "comprobacion_python = comprobar(suma_python)\n",
    "print('Frecuencia:',frecuencias_python)\n",
    "print('Tabla Generada', tabla_generada_python)\n",
    "print('Aplicación de formula:', resultado_aplicar_formula_python)\n",
    "print('Suma:', suma_python)\n",
    "print('Comprobación:', comprobacion_python)\n"
   ]
  },
  {
   "cell_type": "markdown",
   "id": "732bc46f",
   "metadata": {},
   "source": [
    "<h3> Cuadrados medios </h3>"
   ]
  },
  {
   "cell_type": "code",
   "execution_count": 12,
   "id": "7a5ba39d",
   "metadata": {},
   "outputs": [
    {
     "name": "stdout",
     "output_type": "stream",
     "text": [
      "Frecuencia: {'td': 23, '1p': 57, '2p': 14, 'tercia': 3, 'full': 1, 'poker': 2, 'quintilla': 0}\n",
      "Tabla Generada {'td': 30.24, '1p': 50.4, '2p': 10.8, 'tercia': 7.2, 'full': 0.9, 'poker': 0.45, 'quintilla': 0.01}\n",
      "Aplicación de formula: {'td': 1.733, '1p': 0.864, '2p': 0.948, 'tercia': 2.45, 'full': 0.011, 'poker': 5.339, 'quintilla': 0.01}\n",
      "Suma: 11.355\n",
      "Comprobación: Aceptado\n"
     ]
    }
   ],
   "source": [
    "list_cuadrados_medios = []\n",
    "xo = 74731897457\n",
    "digitos = 7\n",
    "iteraciones = 100\n",
    "xn = xo\n",
    "for i in range(iteraciones):\n",
    "    xnn = xn**2\n",
    "    txnn = str(xnn).zfill(8)\n",
    "    tam = len(txnn)\n",
    "    ui = int(txnn[int(tam/2-digitos/2):int(tam/2+digitos/2)])\n",
    "    rn = ui / (int('9'*digitos)+1)\n",
    "    list_cuadrados_medios.append(rn)\n",
    "    xn = ui\n",
    "    \n",
    "frecuencias_cuadrados = contabilizar_conjuntos(list_cuadrados_medios)\n",
    "tabla_generada_cuadrados = generar_tabla_probabilidad(100)\n",
    "resultado_aplicar_formula_cuadrados = aplicar_formula(frecuencias_cuadrados,tabla_generada_cuadrados)\n",
    "suma_cuadrados = calcular_suma(resultado_aplicar_formula_cuadrados) \n",
    "comprobacion_cuadrados = comprobar(suma_cuadrados)\n",
    "print('Frecuencia:',frecuencias_cuadrados)\n",
    "print('Tabla Generada', tabla_generada_cuadrados)\n",
    "print('Aplicación de formula:', resultado_aplicar_formula_cuadrados)\n",
    "print('Suma:', suma_cuadrados)\n",
    "print('Comprobación:', comprobacion_cuadrados)"
   ]
  },
  {
   "cell_type": "markdown",
   "id": "62e2d6c9",
   "metadata": {},
   "source": [
    "<h3> Congruencia lineal </h3>"
   ]
  },
  {
   "cell_type": "code",
   "execution_count": 7,
   "id": "dced35d2",
   "metadata": {},
   "outputs": [
    {
     "name": "stdout",
     "output_type": "stream",
     "text": [
      "[0.8947368421052632, 0.8421052631578947, 0.9473684210526315, 0.7368421052631579, 0.15789473684210525, 0.3157894736842105, 0.0, 0.631578947368421, 0.3684210526315789, 0.8947368421052632, 0.8421052631578947, 0.9473684210526315, 0.7368421052631579, 0.15789473684210525, 0.3157894736842105, 0.0, 0.631578947368421, 0.3684210526315789, 0.8947368421052632, 0.8421052631578947, 0.9473684210526315, 0.7368421052631579, 0.15789473684210525, 0.3157894736842105, 0.0, 0.631578947368421, 0.3684210526315789, 0.8947368421052632, 0.8421052631578947, 0.9473684210526315, 0.7368421052631579, 0.15789473684210525, 0.3157894736842105, 0.0, 0.631578947368421, 0.3684210526315789, 0.8947368421052632, 0.8421052631578947, 0.9473684210526315, 0.7368421052631579, 0.15789473684210525, 0.3157894736842105, 0.0, 0.631578947368421, 0.3684210526315789, 0.8947368421052632, 0.8421052631578947, 0.9473684210526315, 0.7368421052631579, 0.15789473684210525, 0.3157894736842105, 0.0, 0.631578947368421, 0.3684210526315789, 0.8947368421052632, 0.8421052631578947, 0.9473684210526315, 0.7368421052631579, 0.15789473684210525, 0.3157894736842105, 0.0, 0.631578947368421, 0.3684210526315789, 0.8947368421052632, 0.8421052631578947, 0.9473684210526315, 0.7368421052631579, 0.15789473684210525, 0.3157894736842105, 0.0, 0.631578947368421, 0.3684210526315789, 0.8947368421052632, 0.8421052631578947, 0.9473684210526315, 0.7368421052631579, 0.15789473684210525, 0.3157894736842105, 0.0, 0.631578947368421, 0.3684210526315789, 0.8947368421052632, 0.8421052631578947, 0.9473684210526315, 0.7368421052631579, 0.15789473684210525, 0.3157894736842105, 0.0, 0.631578947368421, 0.3684210526315789, 0.8947368421052632, 0.8421052631578947, 0.9473684210526315, 0.7368421052631579, 0.15789473684210525, 0.3157894736842105, 0.0, 0.631578947368421, 0.3684210526315789, 0.8947368421052632]\n",
      "Frecuencia: {'td': 100, '1p': 0, '2p': 0, 'tercia': 0, 'full': 0, 'poker': 0, 'quintilla': 0}\n",
      "Tabla Generada {'td': 30.24, '1p': 50.4, '2p': 10.8, 'tercia': 7.2, 'full': 0.9, 'poker': 0.45, 'quintilla': 0.01}\n",
      "Aplicación de formula: {'td': 160.928, '1p': 50.4, '2p': 10.8, 'tercia': 7.2, 'full': 0.9, 'poker': 0.45, 'quintilla': 0.01}\n",
      "Suma: 230.688\n",
      "Comprobación: Rechazado\n"
     ]
    }
   ],
   "source": [
    "list_congruencia_lineal = []\n",
    "a = 74731897457\n",
    "b = 37747318974\n",
    "x0 = 7\n",
    "m = 19\n",
    "iterations = 100\n",
    "\n",
    "xn = x0\n",
    "for i in range(iterations):\n",
    "    xnn = (a*xn+b)%m\n",
    "    ui = xnn/m\n",
    "    list_congruencia_lineal.append(ui)\n",
    "    xn = xnn\n",
    "print(list_congruencia_lineal)\n",
    "frecuencias_congruencia = contabilizar_conjuntos(list_congruencia_lineal)\n",
    "tabla_generada_congruencia = generar_tabla_probabilidad(100)\n",
    "resultado_aplicar_formula_congruencia = aplicar_formula(frecuencias_congruencia,tabla_generada_congruencia)\n",
    "suma_congruencia = calcular_suma(resultado_aplicar_formula_congruencia) \n",
    "comprobacion_congruencia = comprobar(suma_congruencia)\n",
    "print('Frecuencia:',frecuencias_congruencia)\n",
    "print('Tabla Generada', tabla_generada_congruencia)\n",
    "print('Aplicación de formula:', resultado_aplicar_formula_congruencia)\n",
    "print('Suma:', suma_congruencia)\n",
    "print('Comprobación:', comprobacion_congruencia)"
   ]
  },
  {
   "cell_type": "markdown",
   "id": "7ff8408e",
   "metadata": {},
   "source": [
    "<h3> Tausworthe</h3>"
   ]
  }
 ],
 "metadata": {
  "kernelspec": {
   "display_name": "Python 3 (ipykernel)",
   "language": "python",
   "name": "python3"
  },
  "language_info": {
   "codemirror_mode": {
    "name": "ipython",
    "version": 3
   },
   "file_extension": ".py",
   "mimetype": "text/x-python",
   "name": "python",
   "nbconvert_exporter": "python",
   "pygments_lexer": "ipython3",
   "version": "3.9.11"
  }
 },
 "nbformat": 4,
 "nbformat_minor": 5
}
