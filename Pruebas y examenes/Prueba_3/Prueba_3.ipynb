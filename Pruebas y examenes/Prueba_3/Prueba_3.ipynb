{
 "cells": [
  {
   "cell_type": "markdown",
   "id": "152db674",
   "metadata": {},
   "source": [
    "<h1 style='text-align: center;'> PRUEBA 3: MÉTODO DE LA TRANSFORMADA INVERSA </h1>"
   ]
  },
  {
   "cell_type": "markdown",
   "id": "54452d59",
   "metadata": {},
   "source": [
    "Escoger algún tipo de función de trasformación inversa y ponerlo en práctica utilizando Python.\n",
    "- **Función:** Exponencial (*Seleccionada en base al orden de lista*).\n",
    "- **Números de ejemplos:** 100"
   ]
  },
  {
   "cell_type": "code",
   "execution_count": 1,
   "id": "335cbe73",
   "metadata": {},
   "outputs": [
    {
     "data": {
      "text/html": [
       "<style>div.output_scroll { height: 255em; }</style>"
      ],
      "text/plain": [
       "<IPython.core.display.HTML object>"
      ]
     },
     "metadata": {},
     "output_type": "display_data"
    }
   ],
   "source": [
    "# Fix height output cell!\n",
    "from IPython.display import HTML\n",
    "display(HTML(\"<style>div.output_scroll { height: 255em; }</style>\"))"
   ]
  },
  {
   "cell_type": "markdown",
   "id": "391739b0",
   "metadata": {},
   "source": [
    "### Problema"
   ]
  },
  {
   "cell_type": "markdown",
   "id": "04eedd47",
   "metadata": {},
   "source": [
    "El tiempo empleador por el Taller Mecánico Automotriz Autolab para el trabajo de alineación y balanceo tiene una distribución exponencial, con media de 0.8 horas/cliente. Simule el comportamiento de la variable aleatoria para una lista de 100 números pseudo aleatorios. Teniendo en cuenta que $u \\sim U(0,1)$ y la ecuación generadora exponencial es $x_{i}=-\\frac{1}{\\lambda }\\ln (1-U)$.\n",
    "\n",
    "<img src=\"./formulas.png\">"
   ]
  },
  {
   "cell_type": "markdown",
   "id": "cd58191f",
   "metadata": {},
   "source": [
    "#### Funciones"
   ]
  },
  {
   "cell_type": "code",
   "execution_count": 2,
   "id": "ba819cc9",
   "metadata": {},
   "outputs": [],
   "source": [
    "import numpy as np\n",
    "from tabulate import tabulate\n",
    "import matplotlib.pyplot as plt\n",
    "from IPython.display import display, Markdown\n",
    " \n",
    "def exponential_pdf(u, lmbda):\n",
    "    '''Probability density function.'''\n",
    "    # Formula: 𝜆𝑒^(−𝜆𝑥)\n",
    "    # lam: Lambda del problema\n",
    "    # u: Número aleatorio muestreado desde una distribución uniforme\n",
    "    return lmbda * np.exp(-lmbda * u)\n",
    "\n",
    "def exponential_cdf(u, lmbda):\n",
    "    '''Cumulative distribution function.'''\n",
    "    # Formula: 1−𝑒^(−𝜆𝑥)\n",
    "    # lam: Lambda del problema\n",
    "    # u: Número aleatorio muestreado desde una distribución uniforme\n",
    "    return 1 - np.exp(-lmbda * u)\n",
    "\n",
    "def exponential_icdf(u, lmbda):\n",
    "    '''Inverse exponential function.'''\n",
    "    # Formula: -1/𝜆 * ln(1-U)\n",
    "    # lam: Lambda del problema\n",
    "    # u: Número aleatorio muestreado desde una distribución uniforme\n",
    "    return -np.log(1-u)/lmbda \n",
    "\n",
    "\n",
    "def show_table(random_numbers, exp_result):\n",
    "    # random_numbers: Lista de números pseudo aleatorios de una distribución uniforme\n",
    "    # exp_result: Lista de tiempos de servicos tras aplicar la función calcular_tiempo_servicio\n",
    "    indexs = range(1, len(exp_result) + 1)\n",
    "    table = zip(indexs, random_numbers, exp_result)\n",
    "    headers = [\"Cliente\", \"ri\", \"Tiempo de servicio (Horas)\"]\n",
    "    display(Markdown(f'**Tabla resultante**'))\n",
    "    print(tabulate(table, headers=headers, tablefmt=\"fancy_grid\", numalign='center'))"
   ]
  },
  {
   "cell_type": "markdown",
   "id": "f3506962",
   "metadata": {},
   "source": [
    "### Simulación"
   ]
  },
  {
   "cell_type": "code",
   "execution_count": 3,
   "id": "55c98d59",
   "metadata": {},
   "outputs": [
    {
     "data": {
      "text/markdown": [
       "**Muestra de números pseudoaleatorios generados**"
      ],
      "text/plain": [
       "<IPython.core.display.Markdown object>"
      ]
     },
     "metadata": {},
     "output_type": "display_data"
    },
    {
     "data": {
      "text/markdown": [
       "[0.31649186 0.50812559 0.23483255 0.58064168 0.25051271 0.8849702\n",
       " 0.16538019 0.58268714 0.33210416 0.29940427]"
      ],
      "text/plain": [
       "<IPython.core.display.Markdown object>"
      ]
     },
     "metadata": {},
     "output_type": "display_data"
    },
    {
     "data": {
      "text/markdown": [
       "**Tabla resultante**"
      ],
      "text/plain": [
       "<IPython.core.display.Markdown object>"
      ]
     },
     "metadata": {},
     "output_type": "display_data"
    },
    {
     "name": "stdout",
     "output_type": "stream",
     "text": [
      "╒═══════════╤════════════╤══════════════════════════════╕\n",
      "│  Cliente  │     ri     │  Tiempo de servicio (Horas)  │\n",
      "╞═══════════╪════════════╪══════════════════════════════╡\n",
      "│     1     │  0.316492  │           0.475646           │\n",
      "├───────────┼────────────┼──────────────────────────────┤\n",
      "│     2     │  0.508126  │           0.886915           │\n",
      "├───────────┼────────────┼──────────────────────────────┤\n",
      "│     3     │  0.234833  │           0.334576           │\n",
      "├───────────┼────────────┼──────────────────────────────┤\n",
      "│     4     │  0.580642  │           1.08629            │\n",
      "├───────────┼────────────┼──────────────────────────────┤\n",
      "│     5     │  0.250513  │           0.360457           │\n",
      "├───────────┼────────────┼──────────────────────────────┤\n",
      "│     6     │  0.88497   │           2.70321            │\n",
      "├───────────┼────────────┼──────────────────────────────┤\n",
      "│     7     │  0.16538   │           0.225974           │\n",
      "├───────────┼────────────┼──────────────────────────────┤\n",
      "│     8     │  0.582687  │            1.0924            │\n",
      "├───────────┼────────────┼──────────────────────────────┤\n",
      "│     9     │  0.332104  │           0.504529           │\n",
      "├───────────┼────────────┼──────────────────────────────┤\n",
      "│    10     │  0.299404  │           0.44478            │\n",
      "├───────────┼────────────┼──────────────────────────────┤\n",
      "│    11     │  0.700054  │           1.50519            │\n",
      "├───────────┼────────────┼──────────────────────────────┤\n",
      "│    12     │  0.460432  │           0.771234           │\n",
      "├───────────┼────────────┼──────────────────────────────┤\n",
      "│    13     │  0.616192  │           1.19702            │\n",
      "├───────────┼────────────┼──────────────────────────────┤\n",
      "│    14     │  0.258339  │           0.373579           │\n",
      "├───────────┼────────────┼──────────────────────────────┤\n",
      "│    15     │  0.262387  │           0.38042            │\n",
      "├───────────┼────────────┼──────────────────────────────┤\n",
      "│    16     │  0.750077  │           1.73325            │\n",
      "├───────────┼────────────┼──────────────────────────────┤\n",
      "│    17     │  0.642351  │           1.28526            │\n",
      "├───────────┼────────────┼──────────────────────────────┤\n",
      "│    18     │  0.58434   │           1.09736            │\n",
      "├───────────┼────────────┼──────────────────────────────┤\n",
      "│    19     │  0.945899  │           3.64614            │\n",
      "├───────────┼────────────┼──────────────────────────────┤\n",
      "│    20     │  0.455617  │           0.760129           │\n",
      "├───────────┼────────────┼──────────────────────────────┤\n",
      "│    21     │  0.63449   │           1.25808            │\n",
      "├───────────┼────────────┼──────────────────────────────┤\n",
      "│    22     │  0.18955   │           0.262707           │\n",
      "├───────────┼────────────┼──────────────────────────────┤\n",
      "│    23     │  0.156416  │           0.21262            │\n",
      "├───────────┼────────────┼──────────────────────────────┤\n",
      "│    24     │  0.910588  │           3.01812            │\n",
      "├───────────┼────────────┼──────────────────────────────┤\n",
      "│    25     │  0.199839  │           0.278678           │\n",
      "├───────────┼────────────┼──────────────────────────────┤\n",
      "│    26     │ 0.0792086  │           0.103152           │\n",
      "├───────────┼────────────┼──────────────────────────────┤\n",
      "│    27     │  0.385628  │           0.608943           │\n",
      "├───────────┼────────────┼──────────────────────────────┤\n",
      "│    28     │  0.525398  │           0.931598           │\n",
      "├───────────┼────────────┼──────────────────────────────┤\n",
      "│    29     │  0.14176   │           0.191089           │\n",
      "├───────────┼────────────┼──────────────────────────────┤\n",
      "│    30     │ 0.0236791  │           0.029955           │\n",
      "├───────────┼────────────┼──────────────────────────────┤\n",
      "│    31     │  0.568831  │           1.05157            │\n",
      "├───────────┼────────────┼──────────────────────────────┤\n",
      "│    32     │  0.454599  │           0.757793           │\n",
      "├───────────┼────────────┼──────────────────────────────┤\n",
      "│    33     │  0.823277  │           2.16646            │\n",
      "├───────────┼────────────┼──────────────────────────────┤\n",
      "│    34     │  0.53089   │           0.946147           │\n",
      "├───────────┼────────────┼──────────────────────────────┤\n",
      "│    35     │  0.661705  │            1.3548            │\n",
      "├───────────┼────────────┼──────────────────────────────┤\n",
      "│    36     │  0.102025  │           0.134516           │\n",
      "├───────────┼────────────┼──────────────────────────────┤\n",
      "│    37     │  0.670548  │           1.38791            │\n",
      "├───────────┼────────────┼──────────────────────────────┤\n",
      "│    38     │  0.873038  │           2.57983            │\n",
      "├───────────┼────────────┼──────────────────────────────┤\n",
      "│    39     │  0.58486   │           1.09892            │\n",
      "├───────────┼────────────┼──────────────────────────────┤\n",
      "│    40     │  0.366509  │           0.570636           │\n",
      "├───────────┼────────────┼──────────────────────────────┤\n",
      "│    41     │  0.516099  │           0.907343           │\n",
      "├───────────┼────────────┼──────────────────────────────┤\n",
      "│    42     │  0.784867  │           1.92062            │\n",
      "├───────────┼────────────┼──────────────────────────────┤\n",
      "│    43     │ 0.0146731  │          0.0184772           │\n",
      "├───────────┼────────────┼──────────────────────────────┤\n",
      "│    44     │ 0.00634367 │          0.00795485          │\n",
      "├───────────┼────────────┼──────────────────────────────┤\n",
      "│    45     │  0.458191  │           0.766052           │\n",
      "├───────────┼────────────┼──────────────────────────────┤\n",
      "│    46     │  0.515081  │           0.904716           │\n",
      "├───────────┼────────────┼──────────────────────────────┤\n",
      "│    47     │ 0.0576483  │          0.0742209           │\n",
      "├───────────┼────────────┼──────────────────────────────┤\n",
      "│    48     │  0.964631  │            4.1774            │\n",
      "├───────────┼────────────┼──────────────────────────────┤\n",
      "│    49     │  0.52558   │           0.932079           │\n",
      "├───────────┼────────────┼──────────────────────────────┤\n",
      "│    50     │  0.112887  │           0.149728           │\n",
      "├───────────┼────────────┼──────────────────────────────┤\n",
      "│    51     │  0.119056  │           0.158452           │\n",
      "├───────────┼────────────┼──────────────────────────────┤\n",
      "│    52     │  0.425444  │           0.692697           │\n",
      "├───────────┼────────────┼──────────────────────────────┤\n",
      "│    53     │  0.583679  │           1.09537            │\n",
      "├───────────┼────────────┼──────────────────────────────┤\n",
      "│    54     │  0.285229  │           0.419741           │\n",
      "├───────────┼────────────┼──────────────────────────────┤\n",
      "│    55     │  0.843661  │           2.31966            │\n",
      "├───────────┼────────────┼──────────────────────────────┤\n",
      "│    56     │  0.562218  │           1.03254            │\n",
      "├───────────┼────────────┼──────────────────────────────┤\n",
      "│    57     │  0.621929  │           1.21584            │\n",
      "├───────────┼────────────┼──────────────────────────────┤\n",
      "│    58     │  0.284947  │           0.419249           │\n",
      "├───────────┼────────────┼──────────────────────────────┤\n",
      "│    59     │  0.759348  │           1.78051            │\n",
      "├───────────┼────────────┼──────────────────────────────┤\n",
      "│    60     │  0.193051  │           0.268119           │\n",
      "├───────────┼────────────┼──────────────────────────────┤\n",
      "│    61     │  0.277491  │           0.406282           │\n",
      "├───────────┼────────────┼──────────────────────────────┤\n",
      "│    62     │  0.842708  │           2.31206            │\n",
      "├───────────┼────────────┼──────────────────────────────┤\n",
      "│    63     │  0.626095  │           1.22969            │\n",
      "├───────────┼────────────┼──────────────────────────────┤\n",
      "│    64     │  0.452572  │           0.753154           │\n",
      "├───────────┼────────────┼──────────────────────────────┤\n",
      "│    65     │  0.938226  │           3.48034            │\n",
      "├───────────┼────────────┼──────────────────────────────┤\n",
      "│    66     │  0.897469  │           2.84698            │\n",
      "├───────────┼────────────┼──────────────────────────────┤\n",
      "│    67     │  0.441235  │           0.727533           │\n",
      "├───────────┼────────────┼──────────────────────────────┤\n",
      "│    68     │  0.022033  │          0.0278493           │\n",
      "├───────────┼────────────┼──────────────────────────────┤\n",
      "│    69     │  0.176326  │           0.242476           │\n",
      "├───────────┼────────────┼──────────────────────────────┤\n",
      "│    70     │  0.479199  │           0.815484           │\n",
      "├───────────┼────────────┼──────────────────────────────┤\n",
      "│    71     │ 0.0810646  │           0.105674           │\n",
      "├───────────┼────────────┼──────────────────────────────┤\n",
      "│    72     │  0.713812  │           1.56388            │\n",
      "├───────────┼────────────┼──────────────────────────────┤\n",
      "│    73     │  0.170126  │           0.233101           │\n",
      "├───────────┼────────────┼──────────────────────────────┤\n",
      "│    74     │  0.684881  │           1.44351            │\n",
      "├───────────┼────────────┼──────────────────────────────┤\n",
      "│    75     │ 0.0754057  │          0.0980003           │\n",
      "├───────────┼────────────┼──────────────────────────────┤\n",
      "│    76     │  0.188119  │           0.260502           │\n",
      "├───────────┼────────────┼──────────────────────────────┤\n",
      "│    77     │  0.650896  │           1.31548            │\n",
      "├───────────┼────────────┼──────────────────────────────┤\n",
      "│    78     │  0.940792  │           3.53337            │\n",
      "├───────────┼────────────┼──────────────────────────────┤\n",
      "│    79     │  0.912724  │           3.04835            │\n",
      "├───────────┼────────────┼──────────────────────────────┤\n",
      "│    80     │  0.891584  │           2.77723            │\n",
      "├───────────┼────────────┼──────────────────────────────┤\n",
      "│    81     │  0.243759  │           0.349244           │\n",
      "├───────────┼────────────┼──────────────────────────────┤\n",
      "│    82     │  0.960774  │           4.04801            │\n",
      "├───────────┼────────────┼──────────────────────────────┤\n",
      "│    83     │  0.901729  │           2.90003            │\n",
      "├───────────┼────────────┼──────────────────────────────┤\n",
      "│    84     │  0.570545  │           1.05655            │\n",
      "├───────────┼────────────┼──────────────────────────────┤\n",
      "│    85     │  0.401341  │           0.641328           │\n",
      "├───────────┼────────────┼──────────────────────────────┤\n",
      "│    86     │  0.731093  │           1.64174            │\n",
      "├───────────┼────────────┼──────────────────────────────┤\n",
      "│    87     │  0.771723  │            1.8465            │\n",
      "├───────────┼────────────┼──────────────────────────────┤\n",
      "│    88     │  0.28266   │           0.415256           │\n",
      "├───────────┼────────────┼──────────────────────────────┤\n",
      "│    89     │  0.483658  │           0.826232           │\n",
      "├───────────┼────────────┼──────────────────────────────┤\n",
      "│    90     │  0.465364  │           0.782711           │\n",
      "├───────────┼────────────┼──────────────────────────────┤\n",
      "│    91     │  0.205252  │           0.287163           │\n",
      "├───────────┼────────────┼──────────────────────────────┤\n",
      "│    92     │  0.606883  │           1.16706            │\n",
      "├───────────┼────────────┼──────────────────────────────┤\n",
      "│    93     │  0.383641  │           0.604908           │\n",
      "├───────────┼────────────┼──────────────────────────────┤\n",
      "│    94     │  0.820936  │           2.15001            │\n",
      "├───────────┼────────────┼──────────────────────────────┤\n",
      "│    95     │  0.82028   │           2.14545            │\n",
      "├───────────┼────────────┼──────────────────────────────┤\n",
      "│    96     │  0.117618  │           0.156413           │\n",
      "├───────────┼────────────┼──────────────────────────────┤\n",
      "│    97     │  0.631291  │           1.24718            │\n",
      "├───────────┼────────────┼──────────────────────────────┤\n",
      "│    98     │  0.133813  │           0.179568           │\n",
      "├───────────┼────────────┼──────────────────────────────┤\n",
      "│    99     │  0.85391   │           2.40442            │\n",
      "├───────────┼────────────┼──────────────────────────────┤\n",
      "│    100    │  0.167152  │           0.228631           │\n",
      "╘═══════════╧════════════╧══════════════════════════════╛\n"
     ]
    }
   ],
   "source": [
    "# Lista de 100 números pseudoaleatorios uniformes\n",
    "N = 100\n",
    "random_numbers = np.random.uniform(0,1,size=N)\n",
    "lmbda = 0.8 # Tiempo medio de atención\n",
    "\n",
    "# Display\n",
    "display(Markdown(f'**Muestra de números pseudoaleatorios generados**'))\n",
    "display(Markdown(f'{random_numbers[:10]}'))\n",
    "\n",
    "# Resultado de los tiempos de servicios\n",
    "exp_results = exponential_icdf(random_numbers, lmbda)\n",
    "show_table(random_numbers, exp_results)"
   ]
  },
  {
   "cell_type": "code",
   "execution_count": 4,
   "id": "853323ba",
   "metadata": {},
   "outputs": [
    {
     "data": {
      "image/png": "[encoded data removed]",
      "text/plain": [
       "<Figure size 720x360 with 1 Axes>"
      ]
     },
     "metadata": {
      "needs_background": "light"
     },
     "output_type": "display_data"
    }
   ],
   "source": [
    "#Figura\n",
    "plt.figure(figsize=(10,5))\n",
    "plt.hist(exp_results, density=True)\n",
    "plt.title(f'Transformada Inversa, con un muestreo de U(0,1) y $\\lambda= {lmbda}$')\n",
    "plt.ylabel('Frecuencia')\n",
    "plt.show()"
   ]
  },
  {
   "cell_type": "markdown",
   "id": "c4100397",
   "metadata": {},
   "source": [
    "### Graficas/Resultados"
   ]
  },
  {
   "cell_type": "markdown",
   "id": "4623d67e",
   "metadata": {},
   "source": [
    "**Función de densidad:** $\\lambda e^{-\\lambda x}$, si $x \\geq 0 $."
   ]
  },
  {
   "cell_type": "code",
   "execution_count": 5,
   "id": "1eab9e86",
   "metadata": {},
   "outputs": [
    {
     "data": {
      "image/png": "[encoded data removed]",
      "text/plain": [
       "<Figure size 720x288 with 1 Axes>"
      ]
     },
     "metadata": {
      "needs_background": "light"
     },
     "output_type": "display_data"
    }
   ],
   "source": [
    "# Función\n",
    "exp_density_results = exponential_pdf(random_numbers, lmbda)\n",
    "\n",
    "# Figura\n",
    "plt.figure(figsize=(10,4))\n",
    "plt.plot(random_numbers, exp_density_results, 'o', lw=2, label='frozen pdf')\n",
    "plt.title(f'Función de la densidad con un muestreo de U(0,1) y $\\lambda= {lmbda}$')\n",
    "plt.ylabel('$F_X(x)$')\n",
    "plt.xlabel('$X$')\n",
    "plt.show()"
   ]
  },
  {
   "cell_type": "markdown",
   "id": "053d0f43",
   "metadata": {},
   "source": [
    "**Función de probabilid adacumulada:** $1-e^{-\\lambda x}$"
   ]
  },
  {
   "cell_type": "code",
   "execution_count": 6,
   "id": "811bcdf3",
   "metadata": {},
   "outputs": [
    {
     "data": {
      "image/png": "[encoded data removed]",
      "text/plain": [
       "<Figure size 720x288 with 1 Axes>"
      ]
     },
     "metadata": {
      "needs_background": "light"
     },
     "output_type": "display_data"
    }
   ],
   "source": [
    "# Función\n",
    "exp_cumulative_results = exponential_cdf(random_numbers, 0.8)\n",
    "\n",
    "# Figura\n",
    "plt.figure(figsize=(10,4))\n",
    "plt.plot(random_numbers, exp_cumulative_results, 'o', lw=2)\n",
    "plt.title(f'Función de probabilidad acumulada con un muestreo de U(0,1) y $\\lambda= {lmbda}$')\n",
    "plt.ylabel('$F_X(x)$')\n",
    "plt.xlabel('$X$')\n",
    "plt.show()"
   ]
  },
  {
   "cell_type": "markdown",
   "id": "15924f17",
   "metadata": {},
   "source": [
    "### Referencias\n",
    "1. https://en.wikipedia.org/wiki/Exponential_distribution"
   ]
  }
 ],
 "metadata": {
  "kernelspec": {
   "display_name": "Python 3 (ipykernel)",
   "language": "python",
   "name": "python3"
  },
  "language_info": {
   "codemirror_mode": {
    "name": "ipython",
    "version": 3
   },
   "file_extension": ".py",
   "mimetype": "text/x-python",
   "name": "python",
   "nbconvert_exporter": "python",
   "pygments_lexer": "ipython3",
   "version": "3.10.4"
  }
 },
 "nbformat": 4,
 "nbformat_minor": 5
}
