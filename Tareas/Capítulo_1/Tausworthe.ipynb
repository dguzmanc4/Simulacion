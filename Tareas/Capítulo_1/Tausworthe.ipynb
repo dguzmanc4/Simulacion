{
 "cells": [
  {
   "cell_type": "markdown",
   "id": "d1750606",
   "metadata": {},
   "source": [
    "<h1 style='text-align: center;'> Tausworthe </h1>"
   ]
  },
  {
   "cell_type": "markdown",
   "id": "af28e468",
   "metadata": {},
   "source": [
    "Para mejorar la generación de numeros aleatorios se utiliza procesos o algoritmo criptograficos, en base a ellos realizar la investigación e implementación del algoritmo *Tausworthe*.\n",
    "\n",
    "- Realizar un Presentación\n",
    "- Un ejemplo en excel\n",
    "- Codigo en python"
   ]
  },
  {
   "cell_type": "markdown",
   "id": "862c8474",
   "metadata": {},
   "source": [
    "**Ejemplo en excel:** https://docs.google.com/spreadsheets/d/1FyNvbrW_ukjZFMoZhUXJzQGIZZFk166qqxMnbV27CFI/edit?usp=sharing\n",
    "\n",
    "**Presentación:** https://docs.google.com/presentation/d/1v_pF0ZuqxzgDop5Y6ZwQdgYuNhCW7b7xJbt3eRoe-WE/edit?usp=sharing"
   ]
  },
  {
   "cell_type": "code",
   "execution_count": 1,
   "id": "313fe89d",
   "metadata": {},
   "outputs": [],
   "source": [
    "import random\n",
    "import numpy as np\n",
    "from IPython.display import display, Markdown"
   ]
  },
  {
   "cell_type": "code",
   "execution_count": 2,
   "id": "200f741e",
   "metadata": {
    "scrolled": true
   },
   "outputs": [
    {
     "data": {
      "text/markdown": [
       "**Generador de números aletorios utilizando el algoritmo Tausworthe**"
      ],
      "text/plain": [
       "<IPython.core.display.Markdown object>"
      ]
     },
     "metadata": {},
     "output_type": "display_data"
    },
    {
     "data": {
      "text/markdown": [
       "**Parámetros:** q = 5, r = 3, l = 4, length = 5"
      ],
      "text/plain": [
       "<IPython.core.display.Markdown object>"
      ]
     },
     "metadata": {},
     "output_type": "display_data"
    },
    {
     "data": {
      "text/markdown": [
       "**Números pseudo-aleatorios generados:**"
      ],
      "text/plain": [
       "<IPython.core.display.Markdown object>"
      ]
     },
     "metadata": {},
     "output_type": "display_data"
    },
    {
     "data": {
      "text/markdown": [
       "0 : 0.938"
      ],
      "text/plain": [
       "<IPython.core.display.Markdown object>"
      ]
     },
     "metadata": {},
     "output_type": "display_data"
    },
    {
     "data": {
      "text/markdown": [
       "1 : 0.5"
      ],
      "text/plain": [
       "<IPython.core.display.Markdown object>"
      ]
     },
     "metadata": {},
     "output_type": "display_data"
    },
    {
     "data": {
      "text/markdown": [
       "2 : 0.812"
      ],
      "text/plain": [
       "<IPython.core.display.Markdown object>"
      ]
     },
     "metadata": {},
     "output_type": "display_data"
    },
    {
     "data": {
      "text/markdown": [
       "3 : 0.812"
      ],
      "text/plain": [
       "<IPython.core.display.Markdown object>"
      ]
     },
     "metadata": {},
     "output_type": "display_data"
    },
    {
     "data": {
      "text/markdown": [
       "4 : 0.25"
      ],
      "text/plain": [
       "<IPython.core.display.Markdown object>"
      ]
     },
     "metadata": {},
     "output_type": "display_data"
    }
   ],
   "source": [
    "# Generación de números aleatorios\n",
    "q = 5\n",
    "r = 3\n",
    "l = 4\n",
    "length = 5\n",
    "list_tausworthe = []\n",
    "\n",
    "def convert_binary_to_dicimal(bits):\n",
    "    \"\"\"\n",
    "    Función que convierte un conjunto de bits en un número decimal.\n",
    "    \"\"\"\n",
    "    decimal = 0\n",
    "    for index, bit in enumerate(bits[::-1]):\n",
    "        decimal += bit * np.power(2, index)\n",
    "    return decimal\n",
    "\n",
    "length_bit = length * l\n",
    "B = np.ones(length_bit)\n",
    "\n",
    "for i in range(q, length_bit):\n",
    "    new_bit = 1 if B[i - r] != B[i - q] else 0\n",
    "    B[i] = new_bit\n",
    "\n",
    "B = np.array_split(B, length)\n",
    "list_tausworthe = np.array(\n",
    "            [\n",
    "                round(convert_binary_to_dicimal(seg) / np.power(2, l), 3)\n",
    "                for seg in B\n",
    "            ]\n",
    "        )\n",
    "\n",
    "display(Markdown(f'**Generador de números aletorios utilizando el algoritmo Tausworthe**'))\n",
    "display(Markdown(f'**Parámetros:** q = 5, r = 3, l = 4, length = 5'))\n",
    "display(Markdown(f'**Números pseudo-aleatorios generados:**'))\n",
    "for index, result in enumerate(list_tausworthe):\n",
    "    display(Markdown(f'{str(index)} : {str(result)}'))"
   ]
  }
 ],
 "metadata": {
  "kernelspec": {
   "display_name": "Python 3 (ipykernel)",
   "language": "python",
   "name": "python3"
  },
  "language_info": {
   "codemirror_mode": {
    "name": "ipython",
    "version": 3
   },
   "file_extension": ".py",
   "mimetype": "text/x-python",
   "name": "python",
   "nbconvert_exporter": "python",
   "pygments_lexer": "ipython3",
   "version": "3.9.11"
  }
 },
 "nbformat": 4,
 "nbformat_minor": 5
}
