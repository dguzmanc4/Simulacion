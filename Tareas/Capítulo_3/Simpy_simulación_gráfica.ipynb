{
 "cells": [
  {
   "cell_type": "markdown",
   "id": "6310b74a",
   "metadata": {},
   "source": [
    "<h1 style='text-align: center;'> Simpy: simulación gráfica </h1> "
   ]
  },
  {
   "cell_type": "markdown",
   "id": "7c065bb9",
   "metadata": {},
   "source": [
    "Al modelo de simulación de la venta de boletos de un teatro/cine agregar la simulación grafica 2D/3D utilizando cualquier libreria grafica, por ejemplo pygame/tkinter, etc. generar un informe en formato PDF que me permita evidenciar la simulación y generar una grafica/reporte de los resultados."
   ]
  },
  {
   "cell_type": "code",
   "execution_count": 1,
   "id": "7668d3c5",
   "metadata": {},
   "outputs": [
    {
     "data": {
      "application/vnd.jupyter.widget-view+json": {
       "model_id": "c0da294c6fc3496e910f40ae87f3efc1",
       "version_major": 2,
       "version_minor": 0
      },
      "text/plain": [
       "RoughCanvas(height=600, width=950)"
      ]
     },
     "metadata": {},
     "output_type": "display_data"
    }
   ],
   "source": [
    "import numpy as np\n",
    "from time import sleep\n",
    "from ipywidgets import Image\n",
    "import matplotlib.pyplot as plt\n",
    "from ipycanvas import RoughCanvas, hold_canvas\n",
    "\n",
    "def generate_histogram(data):\n",
    "    plt.figure(figsize=(13,7))\n",
    "    plt.bar(list(data.keys()), data.values(), color='#DC4955')\n",
    "    plt.title(\"Simulación de la venta de boletos\")\n",
    "    plt.ylabel('Tiempo en el que se agoto (min)')\n",
    "    plt.xlabel('Películas')\n",
    "    plt.show()\n",
    "\n",
    "def draw(canvas, x, y=285):\n",
    "\n",
    "    with hold_canvas():\n",
    "        canvas.clear()\n",
    "        \n",
    "        ticket_office = Image.from_file('./imgs/ticket-office.png')\n",
    "        cine = Image.from_file('./imgs/cine.png')\n",
    "        exit = Image.from_file('./imgs/exit.png')\n",
    "        walking_man = Image.from_file('./imgs/walking-man.png')\n",
    "\n",
    "        canvas.fill_style = '#F7DE9C'\n",
    "        canvas.stroke_style = 'white'\n",
    "        canvas.fill_rect(0, 0, canvas.width, canvas.height)\n",
    "\n",
    "        canvas.fill_style = '#DC4955'\n",
    "        canvas.font = '25px sans-serif'\n",
    "        canvas.fill_text('SIMULACIÓN DE LA VENTA DE BOLETOS', 215,50)\n",
    "\n",
    "        canvas.fill_style = '#DC4955'\n",
    "        canvas.font = '18px sans-serif'\n",
    "        canvas.fill_text(f'PERSONAS EN COLA: {TOTAL_QUEUE}', 10, 180)\n",
    "\n",
    "        canvas.draw_image(ticket_office, 430, 250, 100, 100)\n",
    "        canvas.draw_image(cine, 850, 160, 100, 100)\n",
    "        canvas.draw_image(exit, 850, 380, 100, 100)\n",
    "        \n",
    "        canvas.draw_image(walking_man, 10, 285, 64, 64)\n",
    "        canvas.draw_image(walking_man, x, y, 64, 64)\n",
    "\n",
    "        canvas.stroke_style = '#31577A'\n",
    "        canvas.stroke_line(0, 350, 520, 350)\n",
    "        \n",
    "        canvas.stroke_line(520, 350, 880, 270)\n",
    "        canvas.stroke_line(520, 350, 880, 480)\n",
    "        \n",
    "        canvas.fill_style = '#DC4955'\n",
    "        canvas.font = '18px sans-serif'\n",
    "        canvas.fill_text('CARTELERA', 10, 400)\n",
    "        canvas.fill_text(f\"Conjuro 3: {num_boletos['Conjuro 3']}\", 10, 430)\n",
    "        canvas.fill_text(f\"Rapidos y Furiosos 10: {num_boletos['Rapidos y Furiosos 10']}\", 10, 460)\n",
    "        canvas.fill_text(f\"Pulp Fictions: {num_boletos['Pulp Fictions']}\", 10, 490)\n",
    "\n",
    "def walk_to_ticket_store():\n",
    "    draw(canvas, 175)\n",
    "    sleep(0.1)\n",
    "    draw(canvas, 300)\n",
    "    sleep(0.1)\n",
    "    draw(canvas, 390)\n",
    "    sleep(0.1)\n",
    "    \n",
    "def walk_to_cinema():\n",
    "    draw(canvas, 650, 250)\n",
    "    sleep(0.1)\n",
    "\n",
    "def walk_to_exit():\n",
    "    draw(canvas, 650, 350)\n",
    "    sleep(0.1)\n",
    "    \n",
    "canvas = RoughCanvas(width=950, height=600)\n",
    "display(canvas)"
   ]
  },
  {
   "cell_type": "code",
   "execution_count": 2,
   "id": "bd936ffe",
   "metadata": {},
   "outputs": [],
   "source": [
    "import collections\n",
    "import random\n",
    "import simpy\n",
    "import time\n",
    "\n",
    "VELOCIDAD_LLEGADA = 42\n",
    "NUM_BOLETO = 50\n",
    "TIEMPO_SIMULACION = 120\n",
    "TOTAL_QUEUE = 0\n",
    "\n",
    "def ventaBoletos(env, num_boletos, pelicula, teatro):\n",
    "    global TOTAL_QUEUE\n",
    "    with teatro.contador.request() as turno:\n",
    "        resultado = yield turno | teatro.sold_out[pelicula]\n",
    "        \n",
    "        if turno not in resultado:\n",
    "            teatro.num_renegados[pelicula] += 1\n",
    "            TOTAL_QUEUE -= 1\n",
    "            walk_to_ticket_store()\n",
    "            walk_to_exit()\n",
    "            return\n",
    "        \n",
    "        if teatro.num_boletos[pelicula] < num_boletos:\n",
    "            yield env.timeout(0.5) \n",
    "            return\n",
    "        \n",
    "        TOTAL_QUEUE -= 1\n",
    "        walk_to_ticket_store()\n",
    "        \n",
    "        teatro.num_boletos[pelicula] -= num_boletos\n",
    "        if teatro.num_boletos[pelicula] < 2:\n",
    "            teatro.sold_out[pelicula].succeed()\n",
    "            teatro.tiempo_agotado[pelicula] = env.now\n",
    "            teatro.num_boletos[pelicula] = 0\n",
    "            \n",
    "        walk_to_cinema()\n",
    "        yield env.timeout(1)\n",
    "\n",
    "\n",
    "def llegadaClientes(env, teatro):\n",
    "    global TOTAL_QUEUE\n",
    "    TOTAL_QUEUE = 1\n",
    "    \n",
    "    while True:\n",
    "        draw(canvas, 10)\n",
    "        TOTAL_QUEUE += 1\n",
    "        \n",
    "        yield env.timeout(random.expovariate(1/0.5))\n",
    "        pelicula = random.choices(teatro.peliculas, teatro.probabilidad, k=1)\n",
    "        num_boletos = random.randint(1, 6)\n",
    "        if teatro.num_boletos[pelicula[0]]:\n",
    "            env.process(ventaBoletos(env, num_boletos, pelicula[0], teatro))\n",
    "        else:\n",
    "            TOTAL_QUEUE -= 1\n",
    "            walk_to_ticket_store()\n",
    "            walk_to_exit()\n",
    "\n",
    "Teatro = collections.namedtuple('Teatro', 'contador, peliculas, probabilidad, num_boletos, sold_out, tiempo_agotado, num_renegados')\n",
    "\n",
    "env = simpy.Environment()\n",
    "\n",
    "contador = simpy.Resource(env,capacity=1)\n",
    "peliculas = ['Conjuro 3', 'Rapidos y Furiosos 10', 'Pulp Fictions']\n",
    "probabilidad=[0.1, 0.3, 0.6]\n",
    "num_boletos = {pelicula: NUM_BOLETO for pelicula in peliculas}\n",
    "sold_out = {pelicula: env.event() for pelicula in peliculas}\n",
    "tiempo_agotado = {pelicula: None for pelicula in peliculas}\n",
    "num_renegados = {pelicula: 0 for pelicula in peliculas}\n",
    "\n",
    "teatro = Teatro(contador, peliculas, probabilidad, num_boletos, sold_out, tiempo_agotado, num_renegados)\n",
    "env.process(llegadaClientes(env, teatro))\n",
    "env.run(until=TIEMPO_SIMULACION)"
   ]
  },
  {
   "cell_type": "code",
   "execution_count": 3,
   "id": "9b2300c1",
   "metadata": {},
   "outputs": [
    {
     "name": "stdout",
     "output_type": "stream",
     "text": [
      "Pelicula: Conjuro 3 se agoto en el tiempo 57.8 despues de salir a la venta\n",
      "Numero de personas que salieron de la fila/renegados 0\n",
      "Pelicula: Rapidos y Furiosos 10 se agoto en el tiempo 32.7 despues de salir a la venta\n",
      "Numero de personas que salieron de la fila/renegados 3\n",
      "Pelicula: Pulp Fictions se agoto en el tiempo 31.7 despues de salir a la venta\n",
      "Numero de personas que salieron de la fila/renegados 16\n"
     ]
    }
   ],
   "source": [
    "# Analisis y resultados\n",
    "for pelicula in peliculas:\n",
    "    if teatro.sold_out[pelicula]:\n",
    "        print('Pelicula: %s se agoto en el tiempo %.1f despues de salir a la venta' %(pelicula, teatro.tiempo_agotado[pelicula]))\n",
    "        print('Numero de personas que salieron de la fila/renegados %s' %teatro.num_renegados[pelicula])"
   ]
  },
  {
   "cell_type": "code",
   "execution_count": 4,
   "id": "b85896b8",
   "metadata": {},
   "outputs": [
    {
     "data": {
      "image/png": "[encoded data removed]",
      "text/plain": [
       "<Figure size 936x504 with 1 Axes>"
      ]
     },
     "metadata": {
      "needs_background": "light"
     },
     "output_type": "display_data"
    }
   ],
   "source": [
    "generate_histogram(teatro.tiempo_agotado)"
   ]
  }
 ],
 "metadata": {
  "kernelspec": {
   "display_name": "Python 3 (ipykernel)",
   "language": "python",
   "name": "python3"
  },
  "language_info": {
   "codemirror_mode": {
    "name": "ipython",
    "version": 3
   },
   "file_extension": ".py",
   "mimetype": "text/x-python",
   "name": "python",
   "nbconvert_exporter": "python",
   "pygments_lexer": "ipython3",
   "version": "3.9.11"
  }
 },
 "nbformat": 4,
 "nbformat_minor": 5
}
